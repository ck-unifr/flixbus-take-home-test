{
 "cells": [
  {
   "cell_type": "code",
   "execution_count": 38,
   "metadata": {},
   "outputs": [],
   "source": [
    "import pandas as pd\n",
    "import datatime"
   ]
  },
  {
   "cell_type": "code",
   "execution_count": 39,
   "metadata": {},
   "outputs": [],
   "source": [
    "df_channel = pd.read_csv('orders_channels.csv')\n",
    "df_country = pd.read_csv('orders_country.csv')\n",
    "df_tickets = pd.read_csv('orders_tickets.csv')"
   ]
  },
  {
   "cell_type": "code",
   "execution_count": 40,
   "metadata": {},
   "outputs": [
    {
     "data": {
      "text/html": [
       "<div>\n",
       "<style scoped>\n",
       "    .dataframe tbody tr th:only-of-type {\n",
       "        vertical-align: middle;\n",
       "    }\n",
       "\n",
       "    .dataframe tbody tr th {\n",
       "        vertical-align: top;\n",
       "    }\n",
       "\n",
       "    .dataframe thead th {\n",
       "        text-align: right;\n",
       "    }\n",
       "</style>\n",
       "<table border=\"1\" class=\"dataframe\">\n",
       "  <thead>\n",
       "    <tr style=\"text-align: right;\">\n",
       "      <th></th>\n",
       "      <th>id</th>\n",
       "      <th>date</th>\n",
       "      <th>channel_id</th>\n",
       "    </tr>\n",
       "  </thead>\n",
       "  <tbody>\n",
       "    <tr>\n",
       "      <th>0</th>\n",
       "      <td>10173</td>\n",
       "      <td>2017-06-12</td>\n",
       "      <td>39.0</td>\n",
       "    </tr>\n",
       "    <tr>\n",
       "      <th>1</th>\n",
       "      <td>95062</td>\n",
       "      <td>2017-09-11</td>\n",
       "      <td>35.0</td>\n",
       "    </tr>\n",
       "    <tr>\n",
       "      <th>2</th>\n",
       "      <td>171081</td>\n",
       "      <td>2017-07-05</td>\n",
       "      <td>39.0</td>\n",
       "    </tr>\n",
       "    <tr>\n",
       "      <th>3</th>\n",
       "      <td>122867</td>\n",
       "      <td>2017-08-18</td>\n",
       "      <td>39.0</td>\n",
       "    </tr>\n",
       "    <tr>\n",
       "      <th>4</th>\n",
       "      <td>107186</td>\n",
       "      <td>2017-11-23</td>\n",
       "      <td>NaN</td>\n",
       "    </tr>\n",
       "  </tbody>\n",
       "</table>\n",
       "</div>"
      ],
      "text/plain": [
       "       id        date  channel_id\n",
       "0   10173  2017-06-12        39.0\n",
       "1   95062  2017-09-11        35.0\n",
       "2  171081  2017-07-05        39.0\n",
       "3  122867  2017-08-18        39.0\n",
       "4  107186  2017-11-23         NaN"
      ]
     },
     "execution_count": 40,
     "metadata": {},
     "output_type": "execute_result"
    }
   ],
   "source": [
    "df_channel.head()"
   ]
  },
  {
   "cell_type": "code",
   "execution_count": 41,
   "metadata": {},
   "outputs": [
    {
     "data": {
      "text/plain": [
       "(2054059, 3)"
      ]
     },
     "execution_count": 41,
     "metadata": {},
     "output_type": "execute_result"
    }
   ],
   "source": [
    "df_channel.shape"
   ]
  },
  {
   "cell_type": "code",
   "execution_count": 42,
   "metadata": {},
   "outputs": [
    {
     "name": "stdout",
     "output_type": "stream",
     "text": [
      "<class 'pandas.core.frame.DataFrame'>\n",
      "RangeIndex: 2054059 entries, 0 to 2054058\n",
      "Data columns (total 3 columns):\n",
      "id            int64\n",
      "date          object\n",
      "channel_id    float64\n",
      "dtypes: float64(1), int64(1), object(1)\n",
      "memory usage: 47.0+ MB\n"
     ]
    }
   ],
   "source": [
    "df_channel.info()"
   ]
  },
  {
   "cell_type": "code",
   "execution_count": 43,
   "metadata": {},
   "outputs": [
    {
     "data": {
      "text/html": [
       "<div>\n",
       "<style scoped>\n",
       "    .dataframe tbody tr th:only-of-type {\n",
       "        vertical-align: middle;\n",
       "    }\n",
       "\n",
       "    .dataframe tbody tr th {\n",
       "        vertical-align: top;\n",
       "    }\n",
       "\n",
       "    .dataframe thead th {\n",
       "        text-align: right;\n",
       "    }\n",
       "</style>\n",
       "<table border=\"1\" class=\"dataframe\">\n",
       "  <thead>\n",
       "    <tr style=\"text-align: right;\">\n",
       "      <th></th>\n",
       "      <th>id</th>\n",
       "      <th>country_1</th>\n",
       "      <th>country_2</th>\n",
       "    </tr>\n",
       "  </thead>\n",
       "  <tbody>\n",
       "    <tr>\n",
       "      <th>0</th>\n",
       "      <td>10503</td>\n",
       "      <td>24.0</td>\n",
       "      <td>NaN</td>\n",
       "    </tr>\n",
       "    <tr>\n",
       "      <th>1</th>\n",
       "      <td>79360</td>\n",
       "      <td>24.0</td>\n",
       "      <td>0</td>\n",
       "    </tr>\n",
       "    <tr>\n",
       "      <th>2</th>\n",
       "      <td>81388</td>\n",
       "      <td>24.0</td>\n",
       "      <td>15</td>\n",
       "    </tr>\n",
       "    <tr>\n",
       "      <th>3</th>\n",
       "      <td>82828</td>\n",
       "      <td>24.0</td>\n",
       "      <td>9</td>\n",
       "    </tr>\n",
       "    <tr>\n",
       "      <th>4</th>\n",
       "      <td>38756</td>\n",
       "      <td>23.0</td>\n",
       "      <td>NaN</td>\n",
       "    </tr>\n",
       "  </tbody>\n",
       "</table>\n",
       "</div>"
      ],
      "text/plain": [
       "      id  country_1 country_2\n",
       "0  10503       24.0       NaN\n",
       "1  79360       24.0         0\n",
       "2  81388       24.0        15\n",
       "3  82828       24.0         9\n",
       "4  38756       23.0       NaN"
      ]
     },
     "execution_count": 43,
     "metadata": {},
     "output_type": "execute_result"
    }
   ],
   "source": [
    "df_country.head()"
   ]
  },
  {
   "cell_type": "code",
   "execution_count": 44,
   "metadata": {},
   "outputs": [
    {
     "data": {
      "text/plain": [
       "(1917668, 3)"
      ]
     },
     "execution_count": 44,
     "metadata": {},
     "output_type": "execute_result"
    }
   ],
   "source": [
    "df_country.shape"
   ]
  },
  {
   "cell_type": "code",
   "execution_count": 45,
   "metadata": {},
   "outputs": [
    {
     "name": "stdout",
     "output_type": "stream",
     "text": [
      "<class 'pandas.core.frame.DataFrame'>\n",
      "RangeIndex: 1917668 entries, 0 to 1917667\n",
      "Data columns (total 3 columns):\n",
      "id           int64\n",
      "country_1    float64\n",
      "country_2    object\n",
      "dtypes: float64(1), int64(1), object(1)\n",
      "memory usage: 43.9+ MB\n"
     ]
    }
   ],
   "source": [
    "df_country.info()"
   ]
  },
  {
   "cell_type": "code",
   "execution_count": 46,
   "metadata": {},
   "outputs": [
    {
     "data": {
      "text/html": [
       "<div>\n",
       "<style scoped>\n",
       "    .dataframe tbody tr th:only-of-type {\n",
       "        vertical-align: middle;\n",
       "    }\n",
       "\n",
       "    .dataframe tbody tr th {\n",
       "        vertical-align: top;\n",
       "    }\n",
       "\n",
       "    .dataframe thead th {\n",
       "        text-align: right;\n",
       "    }\n",
       "</style>\n",
       "<table border=\"1\" class=\"dataframe\">\n",
       "  <thead>\n",
       "    <tr style=\"text-align: right;\">\n",
       "      <th></th>\n",
       "      <th>id</th>\n",
       "      <th>n_tickets</th>\n",
       "      <th>type</th>\n",
       "    </tr>\n",
       "  </thead>\n",
       "  <tbody>\n",
       "    <tr>\n",
       "      <th>0</th>\n",
       "      <td>1586391</td>\n",
       "      <td>2</td>\n",
       "      <td>pax</td>\n",
       "    </tr>\n",
       "    <tr>\n",
       "      <th>1</th>\n",
       "      <td>438232</td>\n",
       "      <td>2</td>\n",
       "      <td>pax</td>\n",
       "    </tr>\n",
       "    <tr>\n",
       "      <th>2</th>\n",
       "      <td>270896</td>\n",
       "      <td>1</td>\n",
       "      <td>pax</td>\n",
       "    </tr>\n",
       "    <tr>\n",
       "      <th>3</th>\n",
       "      <td>1181593</td>\n",
       "      <td>2</td>\n",
       "      <td>pax</td>\n",
       "    </tr>\n",
       "    <tr>\n",
       "      <th>4</th>\n",
       "      <td>964842</td>\n",
       "      <td>1</td>\n",
       "      <td>pax</td>\n",
       "    </tr>\n",
       "  </tbody>\n",
       "</table>\n",
       "</div>"
      ],
      "text/plain": [
       "        id  n_tickets type\n",
       "0  1586391          2  pax\n",
       "1   438232          2  pax\n",
       "2   270896          1  pax\n",
       "3  1181593          2  pax\n",
       "4   964842          1  pax"
      ]
     },
     "execution_count": 46,
     "metadata": {},
     "output_type": "execute_result"
    }
   ],
   "source": [
    "df_tickets.head()"
   ]
  },
  {
   "cell_type": "code",
   "execution_count": 47,
   "metadata": {},
   "outputs": [
    {
     "data": {
      "text/plain": [
       "(1999716, 3)"
      ]
     },
     "execution_count": 47,
     "metadata": {},
     "output_type": "execute_result"
    }
   ],
   "source": [
    "df_tickets.shape"
   ]
  },
  {
   "cell_type": "code",
   "execution_count": 48,
   "metadata": {},
   "outputs": [],
   "source": [
    "df_merged = pd.merge(df_channel, df_tickets, how='left', on=['id'])"
   ]
  },
  {
   "cell_type": "code",
   "execution_count": 49,
   "metadata": {},
   "outputs": [],
   "source": [
    "df_merged = pd.merge(df_merged, df_country, how='left', on=['id'])"
   ]
  },
  {
   "cell_type": "code",
   "execution_count": 50,
   "metadata": {},
   "outputs": [
    {
     "data": {
      "text/html": [
       "<div>\n",
       "<style scoped>\n",
       "    .dataframe tbody tr th:only-of-type {\n",
       "        vertical-align: middle;\n",
       "    }\n",
       "\n",
       "    .dataframe tbody tr th {\n",
       "        vertical-align: top;\n",
       "    }\n",
       "\n",
       "    .dataframe thead th {\n",
       "        text-align: right;\n",
       "    }\n",
       "</style>\n",
       "<table border=\"1\" class=\"dataframe\">\n",
       "  <thead>\n",
       "    <tr style=\"text-align: right;\">\n",
       "      <th></th>\n",
       "      <th>id</th>\n",
       "      <th>date</th>\n",
       "      <th>channel_id</th>\n",
       "      <th>n_tickets</th>\n",
       "      <th>type</th>\n",
       "      <th>country_1</th>\n",
       "      <th>country_2</th>\n",
       "    </tr>\n",
       "  </thead>\n",
       "  <tbody>\n",
       "    <tr>\n",
       "      <th>0</th>\n",
       "      <td>10173</td>\n",
       "      <td>2017-06-12</td>\n",
       "      <td>39.0</td>\n",
       "      <td>2</td>\n",
       "      <td>pax</td>\n",
       "      <td>24.0</td>\n",
       "      <td>NaN</td>\n",
       "    </tr>\n",
       "    <tr>\n",
       "      <th>1</th>\n",
       "      <td>95062</td>\n",
       "      <td>2017-09-11</td>\n",
       "      <td>35.0</td>\n",
       "      <td>1</td>\n",
       "      <td>pax</td>\n",
       "      <td>12.0</td>\n",
       "      <td>NaN</td>\n",
       "    </tr>\n",
       "    <tr>\n",
       "      <th>2</th>\n",
       "      <td>171081</td>\n",
       "      <td>2017-07-05</td>\n",
       "      <td>39.0</td>\n",
       "      <td>1</td>\n",
       "      <td>pax</td>\n",
       "      <td>4.0</td>\n",
       "      <td>11</td>\n",
       "    </tr>\n",
       "    <tr>\n",
       "      <th>3</th>\n",
       "      <td>122867</td>\n",
       "      <td>2017-08-18</td>\n",
       "      <td>39.0</td>\n",
       "      <td>1</td>\n",
       "      <td>other</td>\n",
       "      <td>24.0</td>\n",
       "      <td>17</td>\n",
       "    </tr>\n",
       "    <tr>\n",
       "      <th>4</th>\n",
       "      <td>107186</td>\n",
       "      <td>2017-11-23</td>\n",
       "      <td>NaN</td>\n",
       "      <td>2</td>\n",
       "      <td>pax</td>\n",
       "      <td>12.0</td>\n",
       "      <td>20</td>\n",
       "    </tr>\n",
       "  </tbody>\n",
       "</table>\n",
       "</div>"
      ],
      "text/plain": [
       "       id        date  channel_id  n_tickets   type  country_1 country_2\n",
       "0   10173  2017-06-12        39.0          2    pax       24.0       NaN\n",
       "1   95062  2017-09-11        35.0          1    pax       12.0       NaN\n",
       "2  171081  2017-07-05        39.0          1    pax        4.0        11\n",
       "3  122867  2017-08-18        39.0          1  other       24.0        17\n",
       "4  107186  2017-11-23         NaN          2    pax       12.0        20"
      ]
     },
     "execution_count": 50,
     "metadata": {},
     "output_type": "execute_result"
    }
   ],
   "source": [
    "df_merged.head()"
   ]
  },
  {
   "cell_type": "code",
   "execution_count": 51,
   "metadata": {},
   "outputs": [
    {
     "data": {
      "text/plain": [
       "(2084458, 7)"
      ]
     },
     "execution_count": 51,
     "metadata": {},
     "output_type": "execute_result"
    }
   ],
   "source": [
    "df_merged.shape"
   ]
  },
  {
   "cell_type": "code",
   "execution_count": 52,
   "metadata": {},
   "outputs": [
    {
     "name": "stdout",
     "output_type": "stream",
     "text": [
      "<class 'pandas.core.frame.DataFrame'>\n",
      "Int64Index: 2084458 entries, 0 to 2084457\n",
      "Data columns (total 7 columns):\n",
      "id            int64\n",
      "date          object\n",
      "channel_id    float64\n",
      "n_tickets     int64\n",
      "type          object\n",
      "country_1     float64\n",
      "country_2     object\n",
      "dtypes: float64(2), int64(2), object(3)\n",
      "memory usage: 127.2+ MB\n"
     ]
    }
   ],
   "source": [
    "df_merged.info()"
   ]
  },
  {
   "cell_type": "code",
   "execution_count": 53,
   "metadata": {},
   "outputs": [],
   "source": [
    "df_merged['date'] = pd.to_datetime(df_merged['date'])"
   ]
  },
  {
   "cell_type": "code",
   "execution_count": 54,
   "metadata": {},
   "outputs": [
    {
     "name": "stdout",
     "output_type": "stream",
     "text": [
      "<class 'pandas.core.frame.DataFrame'>\n",
      "Int64Index: 2084458 entries, 0 to 2084457\n",
      "Data columns (total 7 columns):\n",
      "id            int64\n",
      "date          datetime64[ns]\n",
      "channel_id    float64\n",
      "n_tickets     int64\n",
      "type          object\n",
      "country_1     float64\n",
      "country_2     object\n",
      "dtypes: datetime64[ns](1), float64(2), int64(2), object(2)\n",
      "memory usage: 127.2+ MB\n"
     ]
    }
   ],
   "source": [
    "df_merged.info()"
   ]
  },
  {
   "cell_type": "code",
   "execution_count": 55,
   "metadata": {},
   "outputs": [
    {
     "data": {
      "text/plain": [
       "2084458"
      ]
     },
     "execution_count": 55,
     "metadata": {},
     "output_type": "execute_result"
    }
   ],
   "source": [
    "len(df_merged.id.tolist())"
   ]
  },
  {
   "cell_type": "code",
   "execution_count": 56,
   "metadata": {},
   "outputs": [
    {
     "data": {
      "text/plain": [
       "1970544"
      ]
     },
     "execution_count": 56,
     "metadata": {},
     "output_type": "execute_result"
    }
   ],
   "source": [
    "len(set(df_merged.id))"
   ]
  },
  {
   "cell_type": "markdown",
   "metadata": {},
   "source": [
    "### some orders are assigned to two countries, with country_1 being more important. if there is no value in \"country_1\", use \"country_2\""
   ]
  },
  {
   "cell_type": "code",
   "execution_count": 57,
   "metadata": {},
   "outputs": [],
   "source": [
    "def f(x, y):\n",
    "    if x is None:\n",
    "        return y\n",
    "    return x\n",
    "               \n",
    "df_merged['country'] = df_merged['country_1'].apply(f, args=[df_merged['country_2']])"
   ]
  },
  {
   "cell_type": "code",
   "execution_count": 58,
   "metadata": {},
   "outputs": [
    {
     "data": {
      "text/html": [
       "<div>\n",
       "<style scoped>\n",
       "    .dataframe tbody tr th:only-of-type {\n",
       "        vertical-align: middle;\n",
       "    }\n",
       "\n",
       "    .dataframe tbody tr th {\n",
       "        vertical-align: top;\n",
       "    }\n",
       "\n",
       "    .dataframe thead th {\n",
       "        text-align: right;\n",
       "    }\n",
       "</style>\n",
       "<table border=\"1\" class=\"dataframe\">\n",
       "  <thead>\n",
       "    <tr style=\"text-align: right;\">\n",
       "      <th></th>\n",
       "      <th>id</th>\n",
       "      <th>date</th>\n",
       "      <th>channel_id</th>\n",
       "      <th>n_tickets</th>\n",
       "      <th>type</th>\n",
       "      <th>country_1</th>\n",
       "      <th>country_2</th>\n",
       "      <th>country</th>\n",
       "    </tr>\n",
       "  </thead>\n",
       "  <tbody>\n",
       "    <tr>\n",
       "      <th>0</th>\n",
       "      <td>10173</td>\n",
       "      <td>2017-06-12</td>\n",
       "      <td>39.0</td>\n",
       "      <td>2</td>\n",
       "      <td>pax</td>\n",
       "      <td>24.0</td>\n",
       "      <td>NaN</td>\n",
       "      <td>24.0</td>\n",
       "    </tr>\n",
       "    <tr>\n",
       "      <th>1</th>\n",
       "      <td>95062</td>\n",
       "      <td>2017-09-11</td>\n",
       "      <td>35.0</td>\n",
       "      <td>1</td>\n",
       "      <td>pax</td>\n",
       "      <td>12.0</td>\n",
       "      <td>NaN</td>\n",
       "      <td>12.0</td>\n",
       "    </tr>\n",
       "    <tr>\n",
       "      <th>2</th>\n",
       "      <td>171081</td>\n",
       "      <td>2017-07-05</td>\n",
       "      <td>39.0</td>\n",
       "      <td>1</td>\n",
       "      <td>pax</td>\n",
       "      <td>4.0</td>\n",
       "      <td>11</td>\n",
       "      <td>4.0</td>\n",
       "    </tr>\n",
       "    <tr>\n",
       "      <th>3</th>\n",
       "      <td>122867</td>\n",
       "      <td>2017-08-18</td>\n",
       "      <td>39.0</td>\n",
       "      <td>1</td>\n",
       "      <td>other</td>\n",
       "      <td>24.0</td>\n",
       "      <td>17</td>\n",
       "      <td>24.0</td>\n",
       "    </tr>\n",
       "    <tr>\n",
       "      <th>4</th>\n",
       "      <td>107186</td>\n",
       "      <td>2017-11-23</td>\n",
       "      <td>NaN</td>\n",
       "      <td>2</td>\n",
       "      <td>pax</td>\n",
       "      <td>12.0</td>\n",
       "      <td>20</td>\n",
       "      <td>12.0</td>\n",
       "    </tr>\n",
       "  </tbody>\n",
       "</table>\n",
       "</div>"
      ],
      "text/plain": [
       "       id       date  channel_id  n_tickets   type  country_1 country_2  \\\n",
       "0   10173 2017-06-12        39.0          2    pax       24.0       NaN   \n",
       "1   95062 2017-09-11        35.0          1    pax       12.0       NaN   \n",
       "2  171081 2017-07-05        39.0          1    pax        4.0        11   \n",
       "3  122867 2017-08-18        39.0          1  other       24.0        17   \n",
       "4  107186 2017-11-23         NaN          2    pax       12.0        20   \n",
       "\n",
       "   country  \n",
       "0     24.0  \n",
       "1     12.0  \n",
       "2      4.0  \n",
       "3     24.0  \n",
       "4     12.0  "
      ]
     },
     "execution_count": 58,
     "metadata": {},
     "output_type": "execute_result"
    }
   ],
   "source": [
    "df_merged.head()"
   ]
  },
  {
   "cell_type": "code",
   "execution_count": 73,
   "metadata": {},
   "outputs": [],
   "source": [
    "df_merged['month'] = df_merged['date'].dt.month\n",
    "df_merged['day'] = df_merged['date'].dt.day\n",
    "df_merged['year'] = df_merged['date'].dt.year"
   ]
  },
  {
   "cell_type": "code",
   "execution_count": 74,
   "metadata": {},
   "outputs": [
    {
     "data": {
      "text/html": [
       "<div>\n",
       "<style scoped>\n",
       "    .dataframe tbody tr th:only-of-type {\n",
       "        vertical-align: middle;\n",
       "    }\n",
       "\n",
       "    .dataframe tbody tr th {\n",
       "        vertical-align: top;\n",
       "    }\n",
       "\n",
       "    .dataframe thead th {\n",
       "        text-align: right;\n",
       "    }\n",
       "</style>\n",
       "<table border=\"1\" class=\"dataframe\">\n",
       "  <thead>\n",
       "    <tr style=\"text-align: right;\">\n",
       "      <th></th>\n",
       "      <th>id</th>\n",
       "      <th>date</th>\n",
       "      <th>channel_id</th>\n",
       "      <th>n_tickets</th>\n",
       "      <th>type</th>\n",
       "      <th>country_1</th>\n",
       "      <th>country_2</th>\n",
       "      <th>country</th>\n",
       "      <th>month</th>\n",
       "      <th>day</th>\n",
       "      <th>year</th>\n",
       "    </tr>\n",
       "  </thead>\n",
       "  <tbody>\n",
       "    <tr>\n",
       "      <th>0</th>\n",
       "      <td>10173</td>\n",
       "      <td>2017-06-12</td>\n",
       "      <td>39.0</td>\n",
       "      <td>2</td>\n",
       "      <td>pax</td>\n",
       "      <td>24.0</td>\n",
       "      <td>NaN</td>\n",
       "      <td>24.0</td>\n",
       "      <td>6</td>\n",
       "      <td>12</td>\n",
       "      <td>2017</td>\n",
       "    </tr>\n",
       "    <tr>\n",
       "      <th>1</th>\n",
       "      <td>95062</td>\n",
       "      <td>2017-09-11</td>\n",
       "      <td>35.0</td>\n",
       "      <td>1</td>\n",
       "      <td>pax</td>\n",
       "      <td>12.0</td>\n",
       "      <td>NaN</td>\n",
       "      <td>12.0</td>\n",
       "      <td>9</td>\n",
       "      <td>11</td>\n",
       "      <td>2017</td>\n",
       "    </tr>\n",
       "    <tr>\n",
       "      <th>2</th>\n",
       "      <td>171081</td>\n",
       "      <td>2017-07-05</td>\n",
       "      <td>39.0</td>\n",
       "      <td>1</td>\n",
       "      <td>pax</td>\n",
       "      <td>4.0</td>\n",
       "      <td>11</td>\n",
       "      <td>4.0</td>\n",
       "      <td>7</td>\n",
       "      <td>5</td>\n",
       "      <td>2017</td>\n",
       "    </tr>\n",
       "    <tr>\n",
       "      <th>3</th>\n",
       "      <td>122867</td>\n",
       "      <td>2017-08-18</td>\n",
       "      <td>39.0</td>\n",
       "      <td>1</td>\n",
       "      <td>other</td>\n",
       "      <td>24.0</td>\n",
       "      <td>17</td>\n",
       "      <td>24.0</td>\n",
       "      <td>8</td>\n",
       "      <td>18</td>\n",
       "      <td>2017</td>\n",
       "    </tr>\n",
       "    <tr>\n",
       "      <th>4</th>\n",
       "      <td>107186</td>\n",
       "      <td>2017-11-23</td>\n",
       "      <td>NaN</td>\n",
       "      <td>2</td>\n",
       "      <td>pax</td>\n",
       "      <td>12.0</td>\n",
       "      <td>20</td>\n",
       "      <td>12.0</td>\n",
       "      <td>11</td>\n",
       "      <td>23</td>\n",
       "      <td>2017</td>\n",
       "    </tr>\n",
       "  </tbody>\n",
       "</table>\n",
       "</div>"
      ],
      "text/plain": [
       "       id       date  channel_id  n_tickets   type  country_1 country_2  \\\n",
       "0   10173 2017-06-12        39.0          2    pax       24.0       NaN   \n",
       "1   95062 2017-09-11        35.0          1    pax       12.0       NaN   \n",
       "2  171081 2017-07-05        39.0          1    pax        4.0        11   \n",
       "3  122867 2017-08-18        39.0          1  other       24.0        17   \n",
       "4  107186 2017-11-23         NaN          2    pax       12.0        20   \n",
       "\n",
       "   country  month  day  year  \n",
       "0     24.0      6   12  2017  \n",
       "1     12.0      9   11  2017  \n",
       "2      4.0      7    5  2017  \n",
       "3     24.0      8   18  2017  \n",
       "4     12.0     11   23  2017  "
      ]
     },
     "execution_count": 74,
     "metadata": {},
     "output_type": "execute_result"
    }
   ],
   "source": [
    "df_merged.head()"
   ]
  },
  {
   "cell_type": "markdown",
   "metadata": {},
   "source": [
    "## Approach 1"
   ]
  },
  {
   "cell_type": "code",
   "execution_count": 65,
   "metadata": {},
   "outputs": [],
   "source": [
    "df_merged_grouped = df_merged.groupby(['channel_id', 'country'])"
   ]
  },
  {
   "cell_type": "code",
   "execution_count": 75,
   "metadata": {},
   "outputs": [
    {
     "name": "stdout",
     "output_type": "stream",
     "text": [
      "(90, 11)\n",
      "              id       date  channel_id  n_tickets   type  country_1  \\\n",
      "51102     326998 2017-03-22         1.0          1    pax        4.0   \n",
      "1880258  1478839 2017-04-10         1.0          5    pax        4.0   \n",
      "1071396   719336 2017-04-24         1.0          1    pax        4.0   \n",
      "1038132   760754 2017-05-10         1.0          1    pax        4.0   \n",
      "1849380  1108575 2017-06-08         1.0          1    pax        4.0   \n",
      "271949    273653 2017-06-09         1.0          1    pax        4.0   \n",
      "743        76595 2017-06-10         1.0          1  other        4.0   \n",
      "1189659  1840522 2017-06-19         1.0          1    pax        4.0   \n",
      "1221937  1387923 2017-06-22         1.0          1  other        4.0   \n",
      "1846871  1697859 2017-06-22         1.0          1    pax        4.0   \n",
      "260495    554444 2017-06-25         1.0          1    pax        4.0   \n",
      "1067717    57347 2017-06-30         1.0          2    pax        4.0   \n",
      "219716    166744 2017-07-01         1.0          1    pax        4.0   \n",
      "967042   1849916 2017-07-03         1.0          2    pax        4.0   \n",
      "1256859  1104406 2017-07-03         1.0          1  other        4.0   \n",
      "222406     10719 2017-07-04         1.0          1    pax        4.0   \n",
      "673802   1477332 2017-07-05         1.0          1  other        4.0   \n",
      "850782   1527892 2017-07-06         1.0          2    pax        4.0   \n",
      "621714    721901 2017-07-07         1.0          1  other        4.0   \n",
      "112614    388913 2017-07-10         1.0          2    pax        4.0   \n",
      "1009126  1629943 2017-07-12         1.0          2    pax        4.0   \n",
      "242505    102815 2017-07-14         1.0          1    pax        4.0   \n",
      "1311061   915746 2017-07-15         1.0          1  other        4.0   \n",
      "1344497  1336971 2017-07-15         1.0          1    pax        4.0   \n",
      "101655    689506 2017-07-16         1.0          4    pax        4.0   \n",
      "456712    205136 2017-07-17         1.0          1    pax        4.0   \n",
      "1305432   629378 2017-07-17         1.0          1    pax        4.0   \n",
      "433005    488375 2017-07-20         1.0          1    pax        4.0   \n",
      "76155     174916 2017-07-20         1.0          1    pax        4.0   \n",
      "1603945  1887571 2017-07-25         1.0          1  other        4.0   \n",
      "...          ...        ...         ...        ...    ...        ...   \n",
      "915300   1561553 2017-12-09         1.0          1    pax        4.0   \n",
      "1939014  1960715 2017-12-13         1.0          1    pax        4.0   \n",
      "595009    273611 2017-12-14         1.0          1    pax        4.0   \n",
      "495555    581539 2017-12-24         1.0          1    pax        4.0   \n",
      "1688510  1813815 2018-01-03         1.0          2    pax        4.0   \n",
      "1226591  1667257 2018-01-03         1.0          1  other        4.0   \n",
      "10918     161084 2018-01-03         1.0          1  other        4.0   \n",
      "10917     161084 2018-01-03         1.0          6    pax        4.0   \n",
      "594124    862327 2018-01-03         1.0          2    pax        4.0   \n",
      "1800930  1402936 2018-01-03         1.0          1  other        4.0   \n",
      "664008    504434 2018-01-03         1.0          1    pax        4.0   \n",
      "270037    325970 2018-01-03         1.0          1    pax        4.0   \n",
      "792804   1669983 2018-01-03         1.0          3    pax        4.0   \n",
      "1226592  1667257 2018-01-03         1.0          2    pax        4.0   \n",
      "1133640   914427 2018-01-03         1.0          2    pax        4.0   \n",
      "1281455  1880526 2018-01-03         1.0          1    pax        4.0   \n",
      "1022791   865482 2018-01-03         1.0          1    pax        4.0   \n",
      "2024023  1016497 2018-01-03         1.0          1    pax        4.0   \n",
      "255235    896989 2018-01-03         1.0          1  other        4.0   \n",
      "1503163   432491 2018-01-03         1.0          1    pax        4.0   \n",
      "1579061  1218649 2018-01-03         1.0          1    pax        4.0   \n",
      "1094464  1741744 2018-01-04         1.0          2    pax        4.0   \n",
      "1384595  1231382 2018-01-04         1.0          2  other        4.0   \n",
      "1802753  1539063 2018-01-05         1.0          1    pax        4.0   \n",
      "112103   1004896 2018-01-26         1.0          1    pax        4.0   \n",
      "1411744  1358130 2018-02-03         1.0          1  other        4.0   \n",
      "1892226  1883701 2018-02-13         1.0          2    pax        4.0   \n",
      "1984953  1921727 2018-02-15         1.0          2    pax        4.0   \n",
      "1558006  1901076 2018-02-22         1.0          1  other        4.0   \n",
      "1412236  1913352 2018-02-24         1.0          1    pax        4.0   \n",
      "\n",
      "        country_2  country  month  day  year  \n",
      "51102          17      4.0      3   22  2017  \n",
      "1880258        14      4.0      4   10  2017  \n",
      "1071396        19      4.0      4   24  2017  \n",
      "1038132       NaN      4.0      5   10  2017  \n",
      "1849380        15      4.0      6    8  2017  \n",
      "271949          2      4.0      6    9  2017  \n",
      "743           NaN      4.0      6   10  2017  \n",
      "1189659        12      4.0      6   19  2017  \n",
      "1221937        12      4.0      6   22  2017  \n",
      "1846871       NaN      4.0      6   22  2017  \n",
      "260495         15      4.0      6   25  2017  \n",
      "1067717         0      4.0      6   30  2017  \n",
      "219716         17      4.0      7    1  2017  \n",
      "967042         20      4.0      7    3  2017  \n",
      "1256859       NaN      4.0      7    3  2017  \n",
      "222406          2      4.0      7    4  2017  \n",
      "673802         17      4.0      7    5  2017  \n",
      "850782          6      4.0      7    6  2017  \n",
      "621714          0      4.0      7    7  2017  \n",
      "112614          2      4.0      7   10  2017  \n",
      "1009126         3      4.0      7   12  2017  \n",
      "242505        NaN      4.0      7   14  2017  \n",
      "1311061        19      4.0      7   15  2017  \n",
      "1344497         8      4.0      7   15  2017  \n",
      "101655        NaN      4.0      7   16  2017  \n",
      "456712         19      4.0      7   17  2017  \n",
      "1305432        18      4.0      7   17  2017  \n",
      "433005         12      4.0      7   20  2017  \n",
      "76155          13      4.0      7   20  2017  \n",
      "1603945       NaN      4.0      7   25  2017  \n",
      "...           ...      ...    ...  ...   ...  \n",
      "915300        NaN      4.0     12    9  2017  \n",
      "1939014       NaN      4.0     12   13  2017  \n",
      "595009        NaN      4.0     12   14  2017  \n",
      "495555        NaN      4.0     12   24  2017  \n",
      "1688510        18      4.0      1    3  2018  \n",
      "1226591         3      4.0      1    3  2018  \n",
      "10918           1      4.0      1    3  2018  \n",
      "10917           1      4.0      1    3  2018  \n",
      "594124         12      4.0      1    3  2018  \n",
      "1800930       NaN      4.0      1    3  2018  \n",
      "664008         17      4.0      1    3  2018  \n",
      "270037          9      4.0      1    3  2018  \n",
      "792804         xx      4.0      1    3  2018  \n",
      "1226592         3      4.0      1    3  2018  \n",
      "1133640        11      4.0      1    3  2018  \n",
      "1281455        xx      4.0      1    3  2018  \n",
      "1022791        12      4.0      1    3  2018  \n",
      "2024023         6      4.0      1    3  2018  \n",
      "255235        NaN      4.0      1    3  2018  \n",
      "1503163       NaN      4.0      1    3  2018  \n",
      "1579061       NaN      4.0      1    3  2018  \n",
      "1094464       NaN      4.0      1    4  2018  \n",
      "1384595       NaN      4.0      1    4  2018  \n",
      "1802753       NaN      4.0      1    5  2018  \n",
      "112103        NaN      4.0      1   26  2018  \n",
      "1411744        12      4.0      2    3  2018  \n",
      "1892226        xx      4.0      2   13  2018  \n",
      "1984953         1      4.0      2   15  2018  \n",
      "1558006       NaN      4.0      2   22  2018  \n",
      "1412236       NaN      4.0      2   24  2018  \n",
      "\n",
      "[90 rows x 11 columns]\n"
     ]
    },
    {
     "ename": "NameError",
     "evalue": "name 'timedelta' is not defined",
     "output_type": "error",
     "traceback": [
      "\u001b[1;31m---------------------------------------------------------------------------\u001b[0m",
      "\u001b[1;31mNameError\u001b[0m                                 Traceback (most recent call last)",
      "\u001b[1;32m<ipython-input-75-6cbc295d5881>\u001b[0m in \u001b[0;36m<module>\u001b[1;34m()\u001b[0m\n\u001b[0;32m      9\u001b[0m     \u001b[0my_train\u001b[0m \u001b[1;33m=\u001b[0m \u001b[0mgroup\u001b[0m\u001b[1;33m[\u001b[0m\u001b[1;33m[\u001b[0m\u001b[1;34m'n_tickets'\u001b[0m\u001b[1;33m]\u001b[0m\u001b[1;33m]\u001b[0m\u001b[1;33m\u001b[0m\u001b[0m\n\u001b[0;32m     10\u001b[0m \u001b[1;33m\u001b[0m\u001b[0m\n\u001b[1;32m---> 11\u001b[1;33m     \u001b[0mdate_test\u001b[0m \u001b[1;33m=\u001b[0m \u001b[0mgroup\u001b[0m\u001b[1;33m.\u001b[0m\u001b[0miloc\u001b[0m\u001b[1;33m[\u001b[0m\u001b[1;33m-\u001b[0m\u001b[1;36m1\u001b[0m\u001b[1;33m]\u001b[0m\u001b[1;33m[\u001b[0m\u001b[1;34m'date'\u001b[0m\u001b[1;33m]\u001b[0m \u001b[1;33m+\u001b[0m \u001b[0mtimedelta\u001b[0m\u001b[1;33m(\u001b[0m\u001b[0mdays\u001b[0m\u001b[1;33m=\u001b[0m\u001b[1;36m10\u001b[0m\u001b[1;33m)\u001b[0m\u001b[1;33m\u001b[0m\u001b[0m\n\u001b[0m\u001b[0;32m     12\u001b[0m     \u001b[0mx_test\u001b[0m \u001b[1;33m=\u001b[0m \u001b[1;33m[\u001b[0m\u001b[0mdate_test\u001b[0m\u001b[1;33m.\u001b[0m\u001b[0mdt\u001b[0m\u001b[1;33m.\u001b[0m\u001b[0myear\u001b[0m\u001b[1;33m,\u001b[0m \u001b[0mdate_test\u001b[0m\u001b[1;33m.\u001b[0m\u001b[0mdt\u001b[0m\u001b[1;33m.\u001b[0m\u001b[0mmonth\u001b[0m\u001b[1;33m,\u001b[0m \u001b[0mdate_test\u001b[0m\u001b[1;33m.\u001b[0m\u001b[0mdt\u001b[0m\u001b[1;33m.\u001b[0m\u001b[0mday\u001b[0m\u001b[1;33m]\u001b[0m\u001b[1;33m\u001b[0m\u001b[0m\n\u001b[0;32m     13\u001b[0m \u001b[1;33m\u001b[0m\u001b[0m\n",
      "\u001b[1;31mNameError\u001b[0m: name 'timedelta' is not defined"
     ]
    }
   ],
   "source": [
    "dict_test = {'date':[], 'country':[], 'channel_id':[], 'n_tickets':[]}\n",
    "\n",
    "for name,group in df_merged_grouped:\n",
    "    group = group.sort_values(by=['date'])\n",
    "    #print(group)\n",
    "    #print(group.shape)\n",
    "    \n",
    "    # for each group train a linear regression model\n",
    "    # features are month and day, label is the number of tickets\n",
    "    x_train = group[['month', 'day']]\n",
    "    y_train = group[['n_tickets']]\n",
    "    \n",
    "    model = LinearRegression()\n",
    "    model.fit(x_train, y_train)\n",
    "    \n",
    "    date_test = group.iloc[-1]['date'] + timedelta(days=10)\n",
    "    x_test = [date_test.dt.year, date_test.dt.month, date_test.dt.day]\n",
    "    y_test = model.predict(x_test)\n",
    "\n",
    "    # use the trained linear regression model to predict the number of the tickets in the 10 days after the end of the group\n",
    "    dict_test['date'].append(date_test)\n",
    "    dict_test['country'].append(group.iloc[0]['country'])\n",
    "    dict_test['channel_id'].append(group.iloc[0]['channel_id'])\n",
    "    dict_test['n_tickets'].append(y_test)\n"
   ]
  },
  {
   "cell_type": "code",
   "execution_count": null,
   "metadata": {},
   "outputs": [],
   "source": [
    "df_test = pd.Dateframe(dict_test)"
   ]
  },
  {
   "cell_type": "code",
   "execution_count": null,
   "metadata": {},
   "outputs": [],
   "source": []
  },
  {
   "cell_type": "code",
   "execution_count": null,
   "metadata": {},
   "outputs": [],
   "source": []
  },
  {
   "cell_type": "code",
   "execution_count": null,
   "metadata": {},
   "outputs": [],
   "source": []
  },
  {
   "cell_type": "code",
   "execution_count": null,
   "metadata": {},
   "outputs": [],
   "source": []
  },
  {
   "cell_type": "code",
   "execution_count": null,
   "metadata": {},
   "outputs": [],
   "source": []
  },
  {
   "cell_type": "code",
   "execution_count": null,
   "metadata": {},
   "outputs": [],
   "source": []
  },
  {
   "cell_type": "code",
   "execution_count": null,
   "metadata": {},
   "outputs": [],
   "source": []
  },
  {
   "cell_type": "code",
   "execution_count": null,
   "metadata": {},
   "outputs": [],
   "source": []
  },
  {
   "cell_type": "code",
   "execution_count": null,
   "metadata": {},
   "outputs": [],
   "source": []
  },
  {
   "cell_type": "code",
   "execution_count": null,
   "metadata": {},
   "outputs": [],
   "source": []
  },
  {
   "cell_type": "code",
   "execution_count": null,
   "metadata": {},
   "outputs": [],
   "source": []
  },
  {
   "cell_type": "code",
   "execution_count": null,
   "metadata": {},
   "outputs": [],
   "source": []
  }
 ],
 "metadata": {
  "kernelspec": {
   "display_name": "Python 3",
   "language": "python",
   "name": "python3"
  },
  "language_info": {
   "codemirror_mode": {
    "name": "ipython",
    "version": 3
   },
   "file_extension": ".py",
   "mimetype": "text/x-python",
   "name": "python",
   "nbconvert_exporter": "python",
   "pygments_lexer": "ipython3",
   "version": "3.6.5"
  }
 },
 "nbformat": 4,
 "nbformat_minor": 2
}
